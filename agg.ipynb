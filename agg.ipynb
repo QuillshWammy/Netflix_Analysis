{
 "cells": [
  {
   "cell_type": "code",
   "execution_count": 2,
   "metadata": {},
   "outputs": [],
   "source": [
    "import pandas as pd"
   ]
  },
  {
   "cell_type": "code",
   "execution_count": 6,
   "metadata": {},
   "outputs": [],
   "source": [
    "top10 = pd.read_csv('Data/global_0703.csv', parse_dates=['week'])"
   ]
  },
  {
   "cell_type": "code",
   "execution_count": 8,
   "metadata": {},
   "outputs": [
    {
     "data": {
      "text/html": [
       "<div>\n",
       "<style scoped>\n",
       "    .dataframe tbody tr th:only-of-type {\n",
       "        vertical-align: middle;\n",
       "    }\n",
       "\n",
       "    .dataframe tbody tr th {\n",
       "        vertical-align: top;\n",
       "    }\n",
       "\n",
       "    .dataframe thead th {\n",
       "        text-align: right;\n",
       "    }\n",
       "</style>\n",
       "<table border=\"1\" class=\"dataframe\">\n",
       "  <thead>\n",
       "    <tr style=\"text-align: right;\">\n",
       "      <th></th>\n",
       "      <th>week</th>\n",
       "      <th>category</th>\n",
       "      <th>weekly_rank</th>\n",
       "      <th>show_title</th>\n",
       "      <th>season_title</th>\n",
       "      <th>weekly_hours_viewed</th>\n",
       "      <th>cumulative_weeks_in_top_10</th>\n",
       "    </tr>\n",
       "  </thead>\n",
       "  <tbody>\n",
       "    <tr>\n",
       "      <th>0</th>\n",
       "      <td>2022-07-03</td>\n",
       "      <td>Films (English)</td>\n",
       "      <td>1</td>\n",
       "      <td>The Man from Toronto</td>\n",
       "      <td>NaN</td>\n",
       "      <td>62640000</td>\n",
       "      <td>2</td>\n",
       "    </tr>\n",
       "    <tr>\n",
       "      <th>1</th>\n",
       "      <td>2022-07-03</td>\n",
       "      <td>Films (English)</td>\n",
       "      <td>2</td>\n",
       "      <td>Sing 2</td>\n",
       "      <td>NaN</td>\n",
       "      <td>24080000</td>\n",
       "      <td>2</td>\n",
       "    </tr>\n",
       "    <tr>\n",
       "      <th>2</th>\n",
       "      <td>2022-07-03</td>\n",
       "      <td>Films (English)</td>\n",
       "      <td>3</td>\n",
       "      <td>Love &amp; Gelato</td>\n",
       "      <td>NaN</td>\n",
       "      <td>18900000</td>\n",
       "      <td>2</td>\n",
       "    </tr>\n",
       "    <tr>\n",
       "      <th>3</th>\n",
       "      <td>2022-07-03</td>\n",
       "      <td>Films (English)</td>\n",
       "      <td>4</td>\n",
       "      <td>Hustle</td>\n",
       "      <td>NaN</td>\n",
       "      <td>14640000</td>\n",
       "      <td>4</td>\n",
       "    </tr>\n",
       "    <tr>\n",
       "      <th>4</th>\n",
       "      <td>2022-07-03</td>\n",
       "      <td>Films (English)</td>\n",
       "      <td>5</td>\n",
       "      <td>Glamour Girls</td>\n",
       "      <td>NaN</td>\n",
       "      <td>12390000</td>\n",
       "      <td>1</td>\n",
       "    </tr>\n",
       "    <tr>\n",
       "      <th>...</th>\n",
       "      <td>...</td>\n",
       "      <td>...</td>\n",
       "      <td>...</td>\n",
       "      <td>...</td>\n",
       "      <td>...</td>\n",
       "      <td>...</td>\n",
       "      <td>...</td>\n",
       "    </tr>\n",
       "    <tr>\n",
       "      <th>2115</th>\n",
       "      <td>2021-07-04</td>\n",
       "      <td>TV (Non-English)</td>\n",
       "      <td>6</td>\n",
       "      <td>Elite</td>\n",
       "      <td>Elite: Season 1</td>\n",
       "      <td>10530000</td>\n",
       "      <td>1</td>\n",
       "    </tr>\n",
       "    <tr>\n",
       "      <th>2116</th>\n",
       "      <td>2021-07-04</td>\n",
       "      <td>TV (Non-English)</td>\n",
       "      <td>7</td>\n",
       "      <td>Elite</td>\n",
       "      <td>Elite: Season 3</td>\n",
       "      <td>10200000</td>\n",
       "      <td>1</td>\n",
       "    </tr>\n",
       "    <tr>\n",
       "      <th>2117</th>\n",
       "      <td>2021-07-04</td>\n",
       "      <td>TV (Non-English)</td>\n",
       "      <td>8</td>\n",
       "      <td>Elite</td>\n",
       "      <td>Elite: Season 2</td>\n",
       "      <td>10140000</td>\n",
       "      <td>1</td>\n",
       "    </tr>\n",
       "    <tr>\n",
       "      <th>2118</th>\n",
       "      <td>2021-07-04</td>\n",
       "      <td>TV (Non-English)</td>\n",
       "      <td>9</td>\n",
       "      <td>Katla</td>\n",
       "      <td>Katla: Season 1</td>\n",
       "      <td>9190000</td>\n",
       "      <td>1</td>\n",
       "    </tr>\n",
       "    <tr>\n",
       "      <th>2119</th>\n",
       "      <td>2021-07-04</td>\n",
       "      <td>TV (Non-English)</td>\n",
       "      <td>10</td>\n",
       "      <td>Record of Ragnarok</td>\n",
       "      <td>Record of Ragnarok: Season 1</td>\n",
       "      <td>9140000</td>\n",
       "      <td>1</td>\n",
       "    </tr>\n",
       "  </tbody>\n",
       "</table>\n",
       "<p>2120 rows × 7 columns</p>\n",
       "</div>"
      ],
      "text/plain": [
       "           week          category  weekly_rank            show_title  \\\n",
       "0    2022-07-03   Films (English)            1  The Man from Toronto   \n",
       "1    2022-07-03   Films (English)            2                Sing 2   \n",
       "2    2022-07-03   Films (English)            3         Love & Gelato   \n",
       "3    2022-07-03   Films (English)            4                Hustle   \n",
       "4    2022-07-03   Films (English)            5         Glamour Girls   \n",
       "...         ...               ...          ...                   ...   \n",
       "2115 2021-07-04  TV (Non-English)            6                 Elite   \n",
       "2116 2021-07-04  TV (Non-English)            7                 Elite   \n",
       "2117 2021-07-04  TV (Non-English)            8                 Elite   \n",
       "2118 2021-07-04  TV (Non-English)            9                 Katla   \n",
       "2119 2021-07-04  TV (Non-English)           10    Record of Ragnarok   \n",
       "\n",
       "                      season_title  weekly_hours_viewed  \\\n",
       "0                              NaN             62640000   \n",
       "1                              NaN             24080000   \n",
       "2                              NaN             18900000   \n",
       "3                              NaN             14640000   \n",
       "4                              NaN             12390000   \n",
       "...                            ...                  ...   \n",
       "2115               Elite: Season 1             10530000   \n",
       "2116               Elite: Season 3             10200000   \n",
       "2117               Elite: Season 2             10140000   \n",
       "2118               Katla: Season 1              9190000   \n",
       "2119  Record of Ragnarok: Season 1              9140000   \n",
       "\n",
       "      cumulative_weeks_in_top_10  \n",
       "0                              2  \n",
       "1                              2  \n",
       "2                              2  \n",
       "3                              4  \n",
       "4                              1  \n",
       "...                          ...  \n",
       "2115                           1  \n",
       "2116                           1  \n",
       "2117                           1  \n",
       "2118                           1  \n",
       "2119                           1  \n",
       "\n",
       "[2120 rows x 7 columns]"
      ]
     },
     "execution_count": 8,
     "metadata": {},
     "output_type": "execute_result"
    }
   ],
   "source": [
    "top10"
   ]
  },
  {
   "cell_type": "code",
   "execution_count": 16,
   "metadata": {},
   "outputs": [],
   "source": [
    "week_agg = top10[['weekly_hours_viewed', 'week']].groupby('week').sum()"
   ]
  },
  {
   "cell_type": "code",
   "execution_count": 19,
   "metadata": {},
   "outputs": [
    {
     "data": {
      "text/plain": [
       "<AxesSubplot:xlabel='week'>"
      ]
     },
     "execution_count": 19,
     "metadata": {},
     "output_type": "execute_result"
    },
    {
     "data": {
      "image/png": "[encoded data removed]",
      "text/plain": [
       "<Figure size 432x288 with 1 Axes>"
      ]
     },
     "metadata": {
      "needs_background": "light"
     },
     "output_type": "display_data"
    }
   ],
   "source": [
    "week_agg.plot()"
   ]
  },
  {
   "cell_type": "code",
   "execution_count": null,
   "metadata": {},
   "outputs": [],
   "source": [
    "Film_top10 = top10[['category']==]"
   ]
  }
 ],
 "metadata": {
  "kernelspec": {
   "display_name": "Python 3.8.8 ('base')",
   "language": "python",
   "name": "python3"
  },
  "language_info": {
   "codemirror_mode": {
    "name": "ipython",
    "version": 3
   },
   "file_extension": ".py",
   "mimetype": "text/x-python",
   "name": "python",
   "nbconvert_exporter": "python",
   "pygments_lexer": "ipython3",
   "version": "3.8.8"
  },
  "orig_nbformat": 4,
  "vscode": {
   "interpreter": {
    "hash": "6f5583cf1d9466b5c27e75c89cc6b383bed5736d6b16c51c8074d8690011a952"
   }
  }
 },
 "nbformat": 4,
 "nbformat_minor": 2
}
